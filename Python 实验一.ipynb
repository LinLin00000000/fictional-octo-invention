{
 "cells": [
  {
   "cell_type": "code",
   "execution_count": null,
   "metadata": {},
   "outputs": [],
   "source": [
    "import itertools\n",
    "\n",
    "# 题目是问从 1、2、3、4 四个数字中能组成多少个互不相同且不重复的数字\n",
    "# 诚然，我们可以像 [100 * a + 10 * b + c for a in numbers for b in numbers for c in numbers if a != b and a != c and b != c] 这样完成题目的要求，但适用范围太狭窄了\n",
    "# 可以抽象成 从一个可迭代对象中选取 n 个元素，能形成多少个互不相同且不重复的集合，则有\n",
    "\n",
    "f = lambda iterable, n, f: map(f, itertools.permutations(iterable, n))\n",
    "\n",
    "uncurry = lambda f: lambda args: f(*args)\n",
    "\n",
    "# 因为 Python3 删除了 lambda 的元组参数解构功能，所以不得不定义一个 uncurry 辅助函数\n",
    "# See https://www.python.org/dev/peps/pep-3113/\n",
    "\n",
    "g = lambda a, b, c: 100 * a + 10 * b + c\n",
    "\n",
    "\n",
    "print(list(f(range(1, 5), 3, uncurry(g))))\n"
   ]
  },
  {
   "cell_type": "code",
   "execution_count": null,
   "metadata": {},
   "outputs": [],
   "source": [
    "import operator\n",
    "import itertools\n",
    "\n",
    "levels = [10, 20, 40, 60, 100]\n",
    "percentage = [0.1, 0.075, 0.05, 0.03, 0.015, 0.01]\n",
    "\n",
    "x = float(input('输入当月利润（万元）'))\n",
    "\n",
    "a = list(itertools.takewhile(lambda e: e <= x, levels)) + [x]\n",
    "result = sum(map(operator.mul, map(operator.sub, a, [0] + a), percentage))\n",
    "\n",
    "print(f'应发奖金 {result} 万')\n"
   ]
  },
  {
   "cell_type": "code",
   "execution_count": null,
   "metadata": {},
   "outputs": [],
   "source": [
    "# 题目可抽象为 isSquareNumber(x + a) && isSquareNumber(x + a + b) == True , 求 x\n",
    "\n",
    "import math\n",
    "\n",
    "a = 100\n",
    "b = 168\n",
    "\n",
    "print([n ** 2 - a for m in range(b) for n in range(m) if (m + n) * (m - n) == b])\n",
    "# 这个方法看起来不错，但性能太差了，时间复杂度为 O(b ^ 2)\n",
    "\n",
    "print([int((b / i - i) / 2) ** 2 - a for i in range(1, math.ceil(math.sqrt(b))) if ((b / i - i) / 2).is_integer()])\n",
    "# 通过公式计算和简化，时间复杂度降为 O(log b)\n"
   ]
  },
  {
   "cell_type": "code",
   "execution_count": null,
   "metadata": {},
   "outputs": [],
   "source": [
    "# 太过简单了\n",
    "\n",
    "print(sorted(map(int, filter(bool, input('输入一些整数（用空格分隔）').split(' ')))))"
   ]
  },
  {
   "cell_type": "code",
   "execution_count": null,
   "metadata": {},
   "outputs": [],
   "source": [
    "# 这种题就没意思了\n",
    "\n",
    "a = [['   ***   ']\n",
    "    ,['  *    * ']\n",
    "    ,[' *       ']\n",
    "    ,['*        ']]\n",
    "\n",
    "print(*(a + a[::-1]), sep='\\n')"
   ]
  },
  {
   "cell_type": "code",
   "execution_count": null,
   "metadata": {},
   "outputs": [],
   "source": [
    "CopyList = lambda src, dst: dst.extend(src[:])"
   ]
  },
  {
   "cell_type": "code",
   "execution_count": null,
   "metadata": {},
   "outputs": [],
   "source": [
    "print('\\n'.join(['   '.join([f'{y} X {x} = {x * y :<2}' for y in range(1, x + 1)]) for x in range(1, 10)]))"
   ]
  },
  {
   "cell_type": "code",
   "execution_count": null,
   "metadata": {},
   "outputs": [],
   "source": [
    "m = {float('-inf'): 'C', 60: 'B', 90: 'A'}\n",
    "\n",
    "x = float(input('请输入成绩'))\n",
    "\n",
    "print(f'学习成绩为 {m[max(filter(lambda e: e < x, m.keys()))]}')"
   ]
  },
  {
   "cell_type": "code",
   "execution_count": null,
   "metadata": {},
   "outputs": [],
   "source": [
    "import re\n",
    "import itertools\n",
    "\n",
    "types = {'英文字母': re.compile(f'[a-zA-Z]').match, '数字': str.isdigit, '空格': lambda x: x == ' '}\n",
    "\n",
    "def keyFunc(c):\n",
    "    for type, predicate in types.items():\n",
    "        if predicate(c):\n",
    "            return type\n",
    "    return '其他字符'\n",
    "\n",
    "s = input('请输入一行字符')\n",
    "\n",
    "result = [f'{len(tuple(v))} 个{k}' for k, v in itertools.groupby(sorted(s, key=keyFunc), key=keyFunc)]\n",
    "\n",
    "print(f'这串字符共用 {\"，\".join(result)}。')\n"
   ]
  },
  {
   "cell_type": "markdown",
   "metadata": {},
   "source": [
    "不玩了，快速解决战斗"
   ]
  },
  {
   "cell_type": "code",
   "execution_count": null,
   "metadata": {},
   "outputs": [],
   "source": [
    "h = 100\n",
    "t = 10\n",
    "\n",
    "a = [0.5 ** i * h for i in range(t - 1)]\n",
    "\n",
    "print(f'第 {t} 次落地时共经过 {sum(a) + h - a[-1] / 2} 米，第 {t} 次反弹高度为 {a[-1] / 4} 米')\n"
   ]
  },
  {
   "cell_type": "code",
   "execution_count": null,
   "metadata": {},
   "outputs": [],
   "source": [
    "import functools\n",
    "\n",
    "fruit = 1\n",
    "day = 10\n",
    "\n",
    "print(functools.reduce(lambda acc, _: (acc + 1) * 2, range(day - 1), fruit))\n"
   ]
  },
  {
   "cell_type": "code",
   "execution_count": null,
   "metadata": {},
   "outputs": [],
   "source": [
    "import itertools\n",
    "\n",
    "print(tuple(zip(\"abc\", *filter(lambda x: x[0] != 'x' and x[2] != 'x' and x[2] != 'z', itertools.permutations('xyz')))))"
   ]
  }
 ],
 "metadata": {
  "interpreter": {
   "hash": "4ce0e62306dd6a5716965d4519ada776f947e6dfc145b604b11307c10277ef29"
  },
  "kernelspec": {
   "display_name": "Python 3.9.7 64-bit",
   "language": "python",
   "name": "python3"
  },
  "language_info": {
   "codemirror_mode": {
    "name": "ipython",
    "version": 3
   },
   "file_extension": ".py",
   "mimetype": "text/x-python",
   "name": "python",
   "nbconvert_exporter": "python",
   "pygments_lexer": "ipython3",
   "version": "3.9.7"
  },
  "orig_nbformat": 4
 },
 "nbformat": 4,
 "nbformat_minor": 2
}
